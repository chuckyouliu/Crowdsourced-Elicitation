{
 "cells": [
  {
   "cell_type": "code",
   "execution_count": 1,
   "metadata": {
    "collapsed": false
   },
   "outputs": [],
   "source": [
    "%matplotlib inline\n",
    "import numpy as np\n",
    "import PP as pp\n",
    "import matplotlib.pyplot as plt"
   ]
  },
  {
   "cell_type": "markdown",
   "metadata": {},
   "source": [
    "### Defining agents:"
   ]
  },
  {
   "cell_type": "code",
   "execution_count": 2,
   "metadata": {
    "collapsed": false
   },
   "outputs": [],
   "source": [
    "ag1 = pp.agent_pp(np.array([0.5,0.5]), np.array([[0.85,0.15],[0.45,0.55]]))\n",
    "ag1.evaluate_post()"
   ]
  },
  {
   "cell_type": "code",
   "execution_count": 3,
   "metadata": {
    "collapsed": true
   },
   "outputs": [],
   "source": [
    "ag2 = pp.agent_pp(np.array([0.5,0.5]), np.array([[0.85,0.15],[0.45,0.55]]))\n",
    "ag2.evaluate_post()"
   ]
  },
  {
   "cell_type": "markdown",
   "metadata": {},
   "source": [
    "### Simulation:"
   ]
  },
  {
   "cell_type": "code",
   "execution_count": 4,
   "metadata": {
    "collapsed": false
   },
   "outputs": [],
   "source": [
    "def simulate_pp(n, ag1, ag2, truth_1, truth_2):\n",
    "    payoff_1 = 0\n",
    "    \n",
    "    for i in range(n):\n",
    "        u = np.random.uniform()\n",
    "        rep_1 = ag1.report(u,truth_1)\n",
    "        rep_2 = ag2.report(u,truth_2)\n",
    "\n",
    "        payoff_1 += pp.logarithmic(ag1, rep_1, ag2, rep_2)\n",
    "        \n",
    "    return payoff_1"
   ]
  },
  {
   "cell_type": "code",
   "execution_count": 5,
   "metadata": {
    "collapsed": false
   },
   "outputs": [],
   "source": [
    "truthful = [simulate_pp(1000, ag1, ag2, True, True) for i in range(1000)]"
   ]
  },
  {
   "cell_type": "code",
   "execution_count": 6,
   "metadata": {
    "collapsed": false
   },
   "outputs": [],
   "source": [
    "liar = [simulate_pp(1000, ag1, ag2, False, True) for i in range(1000)]"
   ]
  },
  {
   "cell_type": "code",
   "execution_count": 28,
   "metadata": {
    "collapsed": false
   },
   "outputs": [
    {
     "data": {
      "image/png": "[encoded data removed]",
      "text/plain": [
       "<matplotlib.figure.Figure at 0x1065cfe90>"
      ]
     },
     "metadata": {},
     "output_type": "display_data"
    }
   ],
   "source": [
    "plt.hist(truthful, normed = True, label = 'Agent 1 is Truthful')\n",
    "plt.hist(liar, normed = True, label = 'Agent 1 is Deceitful')\n",
    "plt.axvline(np.mean(truthful), color = 'red',label = 'Means')\n",
    "plt.axvline(np.mean(liar), color = 'red')\n",
    "plt.xlabel('Payoff')\n",
    "plt.ylabel('Frequency')\n",
    "plt.legend(loc = 10)\n",
    "plt.title(\"Comparision of agent 1's reports when other agent is always truthful\\n\")\n",
    "plt.show()"
   ]
  }
 ],
 "metadata": {
  "kernelspec": {
   "display_name": "Python 2",
   "language": "python",
   "name": "python2"
  },
  "language_info": {
   "codemirror_mode": {
    "name": "ipython",
    "version": 2
   },
   "file_extension": ".py",
   "mimetype": "text/x-python",
   "name": "python",
   "nbconvert_exporter": "python",
   "pygments_lexer": "ipython2",
   "version": "2.7.11"
  }
 },
 "nbformat": 4,
 "nbformat_minor": 0
}
