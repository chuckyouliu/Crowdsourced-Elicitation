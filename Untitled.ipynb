{
 "cells": [
  {
   "cell_type": "code",
   "execution_count": 1,
   "metadata": {
    "collapsed": true
   },
   "outputs": [],
   "source": [
    "%matplotlib inline\n",
    "import numpy as np\n",
    "import PP as pp\n",
    "import matplotlib.pyplot as plt"
   ]
  },
  {
   "cell_type": "code",
   "execution_count": 2,
   "metadata": {
    "collapsed": true
   },
   "outputs": [],
   "source": [
    "def quad(prob, i):\n",
    "    return 2*prob[i]-np.sum(prob**2)"
   ]
  },
  {
   "cell_type": "markdown",
   "metadata": {},
   "source": [
    "# EXPERIMENT 1"
   ]
  },
  {
   "cell_type": "code",
   "execution_count": 35,
   "metadata": {
    "collapsed": true
   },
   "outputs": [],
   "source": [
    "truthful_rewards_ag1 = []\n",
    "rewards_ag2 = []\n",
    "\n",
    "for j in range(1000): \n",
    "    \n",
    "    ag1 = pp.agent_pp(np.array([0.3,0.7]), np.array([[0.7,0.1, 0.3],[0.1,0.2,0.7]]))\n",
    "    ag2 = pp.agent_pp(np.array([0.6,0.4]), np.array([[0.8,0.15, 0.05],[0.2,0.1,0.7]]))\n",
    "    \n",
    "    reward_ag1 = 0\n",
    "    reward_ag2 = 0\n",
    "\n",
    "    for i in range(1000):\n",
    "        prev_ag1 = ag1.prior_signal\n",
    "        prev_ag2 = ag2.prior_signal\n",
    "        if np.random.uniform() < 0.5:\n",
    "            true_type = 0\n",
    "        else:\n",
    "            true_type = 1\n",
    "        u = np.random.uniform()\n",
    "        if  u < ag1.sig_dist[true_type][0]:\n",
    "            signal_ag1 = 0\n",
    "        elif u < ag1.sig_dist[true_type][1]:\n",
    "            signal_ag1 = 1\n",
    "        else:\n",
    "            signal_ag1 = 2\n",
    "        v = np.random.uniform()\n",
    "        if v < ag2.sig_dist[true_type][0]:\n",
    "            signal_ag2 = 0\n",
    "        elif v < ag2.sig_dist[true_type][1]:\n",
    "            signal_ag2 = 1\n",
    "        else:\n",
    "            signal_ag2 = 2\n",
    "        \n",
    "        ag1.update_prior_signal(signal_ag1)\n",
    "        ag2.update_prior_signal(signal_ag2)\n",
    "\n",
    "        new_ag1 = ag1.prior_signal\n",
    "        new_ag2 = ag2.prior_signal\n",
    "\n",
    "#         infered_1 = pp.infer_report(prev_ag1, new_ag1)\n",
    "#         infered_2 = pp.infer_report(prev_ag2, new_ag2)\n",
    "        \n",
    "        reward_ag1 += quad(prev_ag1, signal_ag2) + quad(new_ag1, signal_ag2)\n",
    "        reward_ag2 += quad(prev_ag2, signal_ag1) + quad(new_ag2, signal_ag1)\n",
    "    \n",
    "    truthful_rewards_ag1.append(reward_ag1)\n",
    "    rewards_ag2.append(reward_ag2)"
   ]
  },
  {
   "cell_type": "code",
   "execution_count": 36,
   "metadata": {
    "collapsed": false
   },
   "outputs": [],
   "source": [
    "lying_rewards_ag1 = []\n",
    "rewards_ag2 = []\n",
    "for j in range(1000):   \n",
    "    ag1 = pp.agent_pp(np.array([0.3,0.7]), np.array([[0.7,0.1, 0.3],[0.1,0.2,0.7]]))\n",
    "    ag2 = pp.agent_pp(np.array([0.6,0.4]), np.array([[0.8,0.15, 0.05],[0.2,0.1,0.7]]))\n",
    "    \n",
    "    reward_ag1 = 0\n",
    "    reward_ag2 = 0\n",
    "\n",
    "    for i in range(1000):\n",
    "        prev_ag1 = ag1.prior_signal\n",
    "        prev_ag2 = ag2.prior_signal\n",
    "        if np.random.uniform() < 0.5:\n",
    "            true_type = 0\n",
    "        else:\n",
    "            true_type = 1\n",
    "        u = np.random.uniform()\n",
    "        if  u < ag1.sig_dist[true_type][0]:\n",
    "            signal_ag1 = 0\n",
    "        elif u < ag1.sig_dist[true_type][1]:\n",
    "            signal_ag1 = 1\n",
    "        else:\n",
    "            signal_ag1 = 2\n",
    "        v = np.random.uniform()\n",
    "        if v < ag2.sig_dist[true_type][0]:\n",
    "            signal_ag2 = 0\n",
    "        elif v < ag2.sig_dist[true_type][1]:\n",
    "            signal_ag2 = 1\n",
    "        else:\n",
    "            signal_ag2 = 2\n",
    "\n",
    "        ag1.update_prior_signal(signal_ag1)\n",
    "        ag2.update_prior_signal(signal_ag2)\n",
    "\n",
    "        new_ag1 = ag1.prior_signal\n",
    "        uu = np.random.uniform(size=3)\n",
    "        new_ag1 = uu/np.sum(uu)\n",
    "        new_ag2 = ag2.prior_signal\n",
    "        \n",
    "        uu2 = np.random.uniform(size=3)\n",
    "\n",
    "#         infered_1 = pp.infer_report(prev_ag1, new_ag1)\n",
    "#         infered_2 = pp.infer_report(prev_ag2, new_ag2)\n",
    "\n",
    "        reward_ag1 += quad(uu2/np.sum(uu2), signal_ag2) + quad(new_ag1, signal_ag2)\n",
    "        reward_ag2 += quad(prev_ag2, signal_ag1) + quad(new_ag2, signal_ag1)\n",
    "    \n",
    "    lying_rewards_ag1.append(reward_ag1)\n",
    "    rewards_ag2.append(reward_ag2)"
   ]
  },
  {
   "cell_type": "code",
   "execution_count": 39,
   "metadata": {
    "collapsed": false
   },
   "outputs": [
    {
     "data": {
      "text/plain": [
       "<matplotlib.legend.Legend at 0x1084b4650>"
      ]
     },
     "execution_count": 39,
     "metadata": {},
     "output_type": "execute_result"
    },
    {
     "data": {
      "image/png": "[encoded data removed]",
      "text/plain": [
       "<matplotlib.figure.Figure at 0x108a6c390>"
      ]
     },
     "metadata": {},
     "output_type": "display_data"
    }
   ],
   "source": [
    "plt.figure(figsize=(8,6))\n",
    "plt.hist([t/1000 for t in truthful_rewards_ag1], label = 'Agent 1 is Truthful')\n",
    "plt.hist([t/1000 for t in lying_rewards_ag1], label = 'Agent 1 is Lying')\n",
    "plt.xlabel('Average Payoff')\n",
    "plt.ylabel('Frequency')\n",
    "plt.legend(loc = 9)"
   ]
  },
  {
   "cell_type": "code",
   "execution_count": null,
   "metadata": {
    "collapsed": true
   },
   "outputs": [],
   "source": [
    "lying_rewards_ag1_1 = []\n",
    "rewards_ag2 = []\n",
    "for j in range(1000):   \n",
    "    ag1 = pp.agent_pp(np.array([0.3,0.7]), np.array([[0.7,0.1, 0.3],[0.1,0.2,0.7]]))\n",
    "    ag2 = pp.agent_pp(np.array([0.6,0.4]), np.array([[0.8,0.15, 0.05],[0.2,0.1,0.7]]))\n",
    "    \n",
    "    reward_ag1 = 0\n",
    "    reward_ag2 = 0\n",
    "\n",
    "    for i in range(1000):\n",
    "        prev_ag1 = ag1.prior_signal\n",
    "        prev_ag2 = ag2.prior_signal\n",
    "        if np.random.uniform() < 0.5:\n",
    "            true_type = 0\n",
    "        else:\n",
    "            true_type = 1\n",
    "        u = np.random.uniform()\n",
    "        if  u < ag1.sig_dist[true_type][0]:\n",
    "            signal_ag1 = 0\n",
    "        elif u < ag1.sig_dist[true_type][1]:\n",
    "            signal_ag1 = 1\n",
    "        else:\n",
    "            signal_ag1 = 2\n",
    "        v = np.random.uniform()\n",
    "        if v < ag2.sig_dist[true_type][0]:\n",
    "            signal_ag2 = 0\n",
    "        elif v < ag2.sig_dist[true_type][1]:\n",
    "            signal_ag2 = 1\n",
    "        else:\n",
    "            signal_ag2 = 2\n",
    "\n",
    "        ag1.update_prior_signal(signal_ag1)\n",
    "        ag2.update_prior_signal(signal_ag2)\n",
    "\n",
    "        new_ag1 = ag1.prior_signal\n",
    "#         uu = np.random.uniform(size=3)\n",
    "#         new_ag1 = uu/np.sum(uu)\n",
    "        new_ag2 = ag2.prior_signal\n",
    "        \n",
    "        uu2 = np.random.uniform(size=3)\n",
    "\n",
    "#         infered_1 = pp.infer_report(prev_ag1, new_ag1)\n",
    "#         infered_2 = pp.infer_report(prev_ag2, new_ag2)\n",
    "\n",
    "        reward_ag1 += quad(uu2/np.sum(uu2), signal_ag2) + quad(new_ag1, signal_ag2)\n",
    "        reward_ag2 += quad(prev_ag2, signal_ag1) + quad(new_ag2, signal_ag1)\n",
    "    \n",
    "    lying_rewards_ag1_1.append(reward_ag1)\n",
    "    rewards_ag2.append(reward_ag2)"
   ]
  },
  {
   "cell_type": "code",
   "execution_count": 10,
   "metadata": {
    "collapsed": false
   },
   "outputs": [
    {
     "data": {
      "text/plain": [
       "<matplotlib.legend.Legend at 0x105b3b090>"
      ]
     },
     "execution_count": 10,
     "metadata": {},
     "output_type": "execute_result"
    },
    {
     "data": {
      "image/png": "[encoded data removed]",
      "text/plain": [
       "<matplotlib.figure.Figure at 0x10627ef90>"
      ]
     },
     "metadata": {},
     "output_type": "display_data"
    }
   ],
   "source": [
    "plt.figure(figsize=(8,6))\n",
    "plt.hist([t/1000 for t in truthful_rewards_ag1], label = 'Agent 1 is Truthful')\n",
    "plt.hist([t/1000 for t in lying_rewards_ag1], label = 'Agent 1 is Lying on his first reported beliefs')\n",
    "plt.ylim(0,300)\n",
    "plt.legend()"
   ]
  },
  {
   "cell_type": "code",
   "execution_count": 11,
   "metadata": {
    "collapsed": true
   },
   "outputs": [],
   "source": [
    "lying_rewards_ag1_2 = []\n",
    "rewards_ag2 = []\n",
    "for j in range(1000):   \n",
    "    ag1 = pp.agent_pp(np.array([0.3,0.7]), np.array([[0.7,0.1, 0.3],[0.1,0.2,0.7]]))\n",
    "    ag2 = pp.agent_pp(np.array([0.6,0.4]), np.array([[0.8,0.15, 0.05],[0.2,0.1,0.7]]))\n",
    "    \n",
    "    reward_ag1 = 0\n",
    "    reward_ag2 = 0\n",
    "\n",
    "    for i in range(1000):\n",
    "        prev_ag1 = ag1.prior_signal\n",
    "        prev_ag2 = ag2.prior_signal\n",
    "        if np.random.uniform() < 0.5:\n",
    "            true_type = 0\n",
    "        else:\n",
    "            true_type = 1\n",
    "        u = np.random.uniform()\n",
    "        if  u < ag1.sig_dist[true_type][0]:\n",
    "            signal_ag1 = 0\n",
    "        elif u < ag1.sig_dist[true_type][1]:\n",
    "            signal_ag1 = 1\n",
    "        else:\n",
    "            signal_ag1 = 2\n",
    "        v = np.random.uniform()\n",
    "        if v < ag2.sig_dist[true_type][0]:\n",
    "            signal_ag2 = 0\n",
    "        elif v < ag2.sig_dist[true_type][1]:\n",
    "            signal_ag2 = 1\n",
    "        else:\n",
    "            signal_ag2 = 2\n",
    "\n",
    "        ag1.update_prior_signal(signal_ag1)\n",
    "        ag2.update_prior_signal(signal_ag2)\n",
    "\n",
    "        new_ag1 = ag1.prior_signal\n",
    "        uu = np.random.uniform(size=3)\n",
    "        new_ag1 = uu/np.sum(uu)\n",
    "        new_ag2 = ag2.prior_signal\n",
    "        \n",
    "#         uu2 = np.random.uniform(size=3)\n",
    "\n",
    "#         infered_1 = pp.infer_report(prev_ag1, new_ag1)\n",
    "#         infered_2 = pp.infer_report(prev_ag2, new_ag2)\n",
    "\n",
    "        reward_ag1 += quad(prev_ag1, signal_ag2) + quad(new_ag1, signal_ag2)\n",
    "        reward_ag2 += quad(prev_ag2, signal_ag1) + quad(new_ag2, signal_ag1)\n",
    "    \n",
    "    lying_rewards_ag1_2.append(reward_ag1)\n",
    "    rewards_ag2.append(reward_ag2)"
   ]
  },
  {
   "cell_type": "code",
   "execution_count": 13,
   "metadata": {
    "collapsed": false
   },
   "outputs": [
    {
     "data": {
      "text/plain": [
       "<matplotlib.legend.Legend at 0x105e71e90>"
      ]
     },
     "execution_count": 13,
     "metadata": {},
     "output_type": "execute_result"
    },
    {
     "data": {
      "image/png": "[encoded data removed]",
      "text/plain": [
       "<matplotlib.figure.Figure at 0x105d4dfd0>"
      ]
     },
     "metadata": {},
     "output_type": "display_data"
    }
   ],
   "source": [
    "plt.figure(figsize=(8,6))\n",
    "plt.hist([t/1000 for t in truthful_rewards_ag1], label = 'Agent 1 is Truthful')\n",
    "plt.hist([t/1000 for t in lying_rewards_ag1], label = 'Agent 1 is Lying on his second reported beliefs')\n",
    "plt.ylim(0,300)\n",
    "plt.legend()"
   ]
  },
  {
   "cell_type": "markdown",
   "metadata": {},
   "source": [
    "# EXPERIMENT 2"
   ]
  },
  {
   "cell_type": "code",
   "execution_count": 40,
   "metadata": {
    "collapsed": true
   },
   "outputs": [],
   "source": [
    "truthful_rewards_ag1 = []\n",
    "rewards_ag2 = []\n",
    "\n",
    "for j in range(1000): \n",
    "    \n",
    "    ag1 = pp.agent_pp(np.array([0.5,0.5]), np.array([[0.75,0.05, 0.2],[0.2,0.1,0.7]]))\n",
    "    ag2 = pp.agent_pp(np.array([0.6,0.4]), np.array([[0.8,0.15, 0.05],[0.2,0.1,0.7]]))\n",
    "    \n",
    "    reward_ag1 = 0\n",
    "    reward_ag2 = 0\n",
    "\n",
    "    for i in range(1000):\n",
    "        prev_ag1 = ag1.prior_signal\n",
    "        prev_ag2 = ag2.prior_signal\n",
    "        if np.random.uniform() < 0.5:\n",
    "            true_type = 0\n",
    "        else:\n",
    "            true_type = 1\n",
    "        u = np.random.uniform()\n",
    "        if  u < ag1.sig_dist[true_type][0]:\n",
    "            signal_ag1 = 0\n",
    "        elif u < ag1.sig_dist[true_type][1]:\n",
    "            signal_ag1 = 1\n",
    "        else:\n",
    "            signal_ag1 = 2\n",
    "        v = np.random.uniform()\n",
    "        if v < ag2.sig_dist[true_type][0]:\n",
    "            signal_ag2 = 0\n",
    "        elif v < ag2.sig_dist[true_type][1]:\n",
    "            signal_ag2 = 1\n",
    "        else:\n",
    "            signal_ag2 = 2\n",
    "        \n",
    "        ag1.update_prior_signal(signal_ag1)\n",
    "        ag2.update_prior_signal(signal_ag2)\n",
    "\n",
    "        new_ag1 = ag1.prior_signal\n",
    "        new_ag2 = ag2.prior_signal\n",
    "\n",
    "#         infered_1 = pp.infer_report(prev_ag1, new_ag1)\n",
    "#         infered_2 = pp.infer_report(prev_ag2, new_ag2)\n",
    "        \n",
    "        reward_ag1 += quad(prev_ag1, signal_ag2) + quad(new_ag1, signal_ag2)\n",
    "        reward_ag2 += quad(prev_ag2, signal_ag1) + quad(new_ag2, signal_ag1)\n",
    "    \n",
    "    truthful_rewards_ag1.append(reward_ag1)\n",
    "    rewards_ag2.append(reward_ag2)"
   ]
  },
  {
   "cell_type": "code",
   "execution_count": 41,
   "metadata": {
    "collapsed": true
   },
   "outputs": [],
   "source": [
    "lying_rewards_ag1 = []\n",
    "rewards_ag2 = []\n",
    "for j in range(1000):   \n",
    "    ag1 = pp.agent_pp(np.array([0.5,0.5]), np.array([[0.75,0.05, 0.2],[0.2,0.1,0.7]]))\n",
    "    ag2 = pp.agent_pp(np.array([0.6,0.4]), np.array([[0.8,0.15, 0.05],[0.2,0.1,0.7]]))\n",
    "    \n",
    "    reward_ag1 = 0\n",
    "    reward_ag2 = 0\n",
    "\n",
    "    for i in range(1000):\n",
    "        prev_ag1 = ag1.prior_signal\n",
    "        prev_ag2 = ag2.prior_signal\n",
    "        if np.random.uniform() < 0.5:\n",
    "            true_type = 0\n",
    "        else:\n",
    "            true_type = 1\n",
    "        u = np.random.uniform()\n",
    "        if  u < ag1.sig_dist[true_type][0]:\n",
    "            signal_ag1 = 0\n",
    "        elif u < ag1.sig_dist[true_type][1]:\n",
    "            signal_ag1 = 1\n",
    "        else:\n",
    "            signal_ag1 = 2\n",
    "        v = np.random.uniform()\n",
    "        if v < ag2.sig_dist[true_type][0]:\n",
    "            signal_ag2 = 0\n",
    "        elif v < ag2.sig_dist[true_type][1]:\n",
    "            signal_ag2 = 1\n",
    "        else:\n",
    "            signal_ag2 = 2\n",
    "\n",
    "        ag1.update_prior_signal(signal_ag1)\n",
    "        ag2.update_prior_signal(signal_ag2)\n",
    "\n",
    "        new_ag1 = ag1.prior_signal\n",
    "        uu = np.random.uniform(size=3)\n",
    "        new_ag1 = uu/np.sum(uu)\n",
    "        new_ag2 = ag2.prior_signal\n",
    "        \n",
    "#         uu2 = np.random.uniform(size=3)\n",
    "\n",
    "#         infered_1 = pp.infer_report(prev_ag1, new_ag1)\n",
    "#         infered_2 = pp.infer_report(prev_ag2, new_ag2)\n",
    "\n",
    "        reward_ag1 += quad(prev_ag1, signal_ag2) + quad(new_ag1, signal_ag2)\n",
    "        reward_ag2 += quad(prev_ag2, signal_ag1) + quad(new_ag2, signal_ag1)\n",
    "    \n",
    "    lying_rewards_ag1.append(reward_ag1)\n",
    "    rewards_ag2.append(reward_ag2)"
   ]
  },
  {
   "cell_type": "code",
   "execution_count": 43,
   "metadata": {
    "collapsed": false
   },
   "outputs": [
    {
     "data": {
      "text/plain": [
       "<matplotlib.legend.Legend at 0x108b99090>"
      ]
     },
     "execution_count": 43,
     "metadata": {},
     "output_type": "execute_result"
    },
    {
     "data": {
      "image/png": "[encoded data removed]",
      "text/plain": [
       "<matplotlib.figure.Figure at 0x108b8e690>"
      ]
     },
     "metadata": {},
     "output_type": "display_data"
    }
   ],
   "source": [
    "plt.figure(figsize=(8,6))\n",
    "plt.hist([t/1000 for t in truthful_rewards_ag1], label = 'Agent 1 is Truthful')\n",
    "plt.hist([t/1000 for t in lying_rewards_ag1], label = 'Agent 1 is Lying', color = 'red')\n",
    "plt.xlabel('Average Payoff')\n",
    "plt.ylabel('Frequency')\n",
    "plt.legend(loc=9)"
   ]
  },
  {
   "cell_type": "markdown",
   "metadata": {},
   "source": [
    "# EXPERIMENT 3"
   ]
  },
  {
   "cell_type": "code",
   "execution_count": 44,
   "metadata": {
    "collapsed": true
   },
   "outputs": [],
   "source": [
    "truthful_rewards_ag1 = []\n",
    "rewards_ag2 = []\n",
    "\n",
    "a = np.random.uniform(0,1,3)\n",
    "b = np.random.uniform(0,1,3)\n",
    "\n",
    "for j in range(1000): \n",
    "    \n",
    "    ag1 = pp.agent_pp(np.array([0.5,0.5]), np.array([a/np.sum(a),b/np.sum(b)]))\n",
    "    ag2 = pp.agent_pp(np.array([0.2,0.8]), np.array([[0.75,0.15, 0.1],[0.1,0.2,0.7]]))\n",
    "    \n",
    "    reward_ag1 = 0\n",
    "    reward_ag2 = 0\n",
    "\n",
    "    for i in range(1000):\n",
    "        prev_ag1 = ag1.prior_signal\n",
    "        prev_ag2 = ag2.prior_signal\n",
    "        if np.random.uniform() < 0.5:\n",
    "            true_type = 0\n",
    "        else:\n",
    "            true_type = 1\n",
    "        u = np.random.uniform()\n",
    "        if  u < ag1.sig_dist[true_type][0]:\n",
    "            signal_ag1 = 0\n",
    "        elif u < ag1.sig_dist[true_type][1]:\n",
    "            signal_ag1 = 1\n",
    "        else:\n",
    "            signal_ag1 = 2\n",
    "        v = np.random.uniform()\n",
    "        if v < ag2.sig_dist[true_type][0]:\n",
    "            signal_ag2 = 0\n",
    "        elif v < ag2.sig_dist[true_type][1]:\n",
    "            signal_ag2 = 1\n",
    "        else:\n",
    "            signal_ag2 = 2\n",
    "        \n",
    "        ag1.update_prior_signal(signal_ag1)\n",
    "        ag2.update_prior_signal(signal_ag2)\n",
    "\n",
    "        new_ag1 = ag1.prior_signal\n",
    "        new_ag2 = ag2.prior_signal\n",
    "\n",
    "#         infered_1 = pp.infer_report(prev_ag1, new_ag1)\n",
    "#         infered_2 = pp.infer_report(prev_ag2, new_ag2)\n",
    "        \n",
    "        reward_ag1 += quad(prev_ag1, signal_ag2) + quad(new_ag1, signal_ag2)\n",
    "        reward_ag2 += quad(prev_ag2, signal_ag1) + quad(new_ag2, signal_ag1)\n",
    "    \n",
    "    truthful_rewards_ag1.append(reward_ag1)\n",
    "    rewards_ag2.append(reward_ag2)"
   ]
  },
  {
   "cell_type": "code",
   "execution_count": 19,
   "metadata": {
    "collapsed": false
   },
   "outputs": [],
   "source": [
    "lying_rewards_ag1 = []\n",
    "rewards_ag2 = []\n",
    "for j in range(1000):   \n",
    "    ag1 = pp.agent_pp(np.array([0.5,0.5]), np.array([a/np.sum(a), b/np.sum(b)]))\n",
    "    ag2 = pp.agent_pp(np.array([0.2,0.8]), np.array([[0.75,0.15, 0.1],[0.1,0.2,0.7]]))\n",
    "    \n",
    "    reward_ag1 = 0\n",
    "    reward_ag2 = 0\n",
    "\n",
    "    for i in range(1000):\n",
    "        prev_ag1 = ag1.prior_signal\n",
    "        prev_ag2 = ag2.prior_signal\n",
    "        if np.random.uniform() < 0.5:\n",
    "            true_type = 0\n",
    "        else:\n",
    "            true_type = 1\n",
    "        u = np.random.uniform()\n",
    "        if  u < ag1.sig_dist[true_type][0]:\n",
    "            signal_ag1 = 0\n",
    "        elif u < ag1.sig_dist[true_type][1]:\n",
    "            signal_ag1 = 1\n",
    "        else:\n",
    "            signal_ag1 = 2\n",
    "        v = np.random.uniform()\n",
    "        if v < ag2.sig_dist[true_type][0]:\n",
    "            signal_ag2 = 0\n",
    "        elif v < ag2.sig_dist[true_type][1]:\n",
    "            signal_ag2 = 1\n",
    "        else:\n",
    "            signal_ag2 = 2\n",
    "\n",
    "        ag1.update_prior_signal(signal_ag1)\n",
    "        ag2.update_prior_signal(signal_ag2)\n",
    "\n",
    "        new_ag1 = ag1.prior_signal\n",
    "        uu = np.random.uniform(size=3)\n",
    "        new_ag1 = uu/np.sum(uu)\n",
    "        new_ag2 = ag2.prior_signal\n",
    "        \n",
    "#         uu2 = np.random.uniform(size=3)\n",
    "\n",
    "#         infered_1 = pp.infer_report(prev_ag1, new_ag1)\n",
    "#         infered_2 = pp.infer_report(prev_ag2, new_ag2)\n",
    "\n",
    "        reward_ag1 += quad(prev_ag1, signal_ag2) + quad(new_ag1, signal_ag2)\n",
    "        reward_ag2 += quad(prev_ag2, signal_ag1) + quad(new_ag2, signal_ag1)\n",
    "    \n",
    "    lying_rewards_ag1.append(reward_ag1)\n",
    "    rewards_ag2.append(reward_ag2)"
   ]
  },
  {
   "cell_type": "code",
   "execution_count": 21,
   "metadata": {
    "collapsed": false
   },
   "outputs": [
    {
     "data": {
      "text/plain": [
       "(0, 350)"
      ]
     },
     "execution_count": 21,
     "metadata": {},
     "output_type": "execute_result"
    },
    {
     "data": {
      "image/png": "[encoded data removed]",
      "text/plain": [
       "<matplotlib.figure.Figure at 0x10667ccd0>"
      ]
     },
     "metadata": {},
     "output_type": "display_data"
    }
   ],
   "source": [
    "plt.figure(figsize=(8,6))\n",
    "plt.hist([t/1000 for t in truthful_rewards_ag1], label = 'Agent 1 is Truthful')\n",
    "plt.hist([t/1000 for t in lying_rewards_ag1], label = 'Agent 1 is Lying on both his reported beliefs', color = 'purple')\n",
    "plt.legend()\n",
    "plt.ylim(0,350)"
   ]
  },
  {
   "cell_type": "code",
   "execution_count": 23,
   "metadata": {
    "collapsed": false
   },
   "outputs": [],
   "source": [
    "lying_rewards_ag1 = []\n",
    "rewards_ag2 = []\n",
    "for j in range(1000):   \n",
    "    ag1 = pp.agent_pp(np.array([0.5,0.5]), np.array([a/np.sum(a), b/np.sum(b)]))\n",
    "    ag2 = pp.agent_pp(np.array([0.2,0.8]), np.array([[0.75,0.15, 0.1],[0.1,0.2,0.7]]))\n",
    "    \n",
    "    reward_ag1 = 0\n",
    "    reward_ag2 = 0\n",
    "\n",
    "    for i in range(1000):\n",
    "        prev_ag1 = ag1.prior_signal\n",
    "        prev_ag2 = ag2.prior_signal\n",
    "        if np.random.uniform() < 0.5:\n",
    "            true_type = 0\n",
    "        else:\n",
    "            true_type = 1\n",
    "        u = np.random.uniform()\n",
    "        if  u < ag1.sig_dist[true_type][0]:\n",
    "            signal_ag1 = 0\n",
    "        elif u < ag1.sig_dist[true_type][1]:\n",
    "            signal_ag1 = 1\n",
    "        else:\n",
    "            signal_ag1 = 2\n",
    "        v = np.random.uniform()\n",
    "        if v < ag2.sig_dist[true_type][0]:\n",
    "            signal_ag2 = 0\n",
    "        elif v < ag2.sig_dist[true_type][1]:\n",
    "            signal_ag2 = 1\n",
    "        else:\n",
    "            signal_ag2 = 2\n",
    "\n",
    "        ag1.update_prior_signal(signal_ag1)\n",
    "        ag2.update_prior_signal(signal_ag2)\n",
    "\n",
    "        new_ag1 = ag1.prior_signal\n",
    "        uu = np.random.uniform(size=3)\n",
    "        new_ag1 = uu/np.sum(uu)\n",
    "        new_ag2 = ag2.prior_signal\n",
    "        \n",
    "        uu2 = np.random.uniform(size=3)\n",
    "\n",
    "#         infered_1 = pp.infer_report(prev_ag1, new_ag1)\n",
    "#         infered_2 = pp.infer_report(prev_ag2, new_ag2)\n",
    "\n",
    "        reward_ag1 += quad(uu2/np.sum(uu2), signal_ag2) + quad(new_ag1, signal_ag2)\n",
    "        reward_ag2 += quad(prev_ag2, signal_ag1) + quad(new_ag2, signal_ag1)\n",
    "    \n",
    "    lying_rewards_ag1.append(reward_ag1)\n",
    "    rewards_ag2.append(reward_ag2)"
   ]
  },
  {
   "cell_type": "code",
   "execution_count": 24,
   "metadata": {
    "collapsed": false
   },
   "outputs": [
    {
     "data": {
      "text/plain": [
       "(0, 350)"
      ]
     },
     "execution_count": 24,
     "metadata": {},
     "output_type": "execute_result"
    },
    {
     "data": {
      "image/png": "[encoded data removed]",
      "text/plain": [
       "<matplotlib.figure.Figure at 0x1066a5510>"
      ]
     },
     "metadata": {},
     "output_type": "display_data"
    }
   ],
   "source": [
    "plt.figure(figsize=(8,6))\n",
    "plt.hist([t/1000 for t in truthful_rewards_ag1], label = 'Agent 1 is Truthful')\n",
    "plt.hist([t/1000 for t in lying_rewards_ag1], label = 'Agent 1 is Lying on both his reported beliefs', color = 'purple')\n",
    "plt.legend()\n",
    "plt.ylim(0,350)"
   ]
  },
  {
   "cell_type": "code",
   "execution_count": 45,
   "metadata": {
    "collapsed": true
   },
   "outputs": [],
   "source": [
    "lying_rewards_ag1 = []\n",
    "rewards_ag2 = []\n",
    "for j in range(1000):   \n",
    "    ag1 = pp.agent_pp(np.array([0.5,0.5]), np.array([a/np.sum(a), b/np.sum(b)]))\n",
    "    ag2 = pp.agent_pp(np.array([0.2,0.8]), np.array([[0.75,0.15, 0.1],[0.1,0.2,0.7]]))\n",
    "    \n",
    "    reward_ag1 = 0\n",
    "    reward_ag2 = 0\n",
    "\n",
    "    for i in range(1000):\n",
    "        prev_ag1 = ag1.prior_signal\n",
    "        prev_ag2 = ag2.prior_signal\n",
    "        if np.random.uniform() < 0.5:\n",
    "            true_type = 0\n",
    "        else:\n",
    "            true_type = 1\n",
    "        u = np.random.uniform()\n",
    "        if  u < ag1.sig_dist[true_type][0]:\n",
    "            signal_ag1 = 0\n",
    "        elif u < ag1.sig_dist[true_type][1]:\n",
    "            signal_ag1 = 1\n",
    "        else:\n",
    "            signal_ag1 = 2\n",
    "        v = np.random.uniform()\n",
    "        if v < ag2.sig_dist[true_type][0]:\n",
    "            signal_ag2 = 0\n",
    "        elif v < ag2.sig_dist[true_type][1]:\n",
    "            signal_ag2 = 1\n",
    "        else:\n",
    "            signal_ag2 = 2\n",
    "\n",
    "        ag1.update_prior_signal(signal_ag1)\n",
    "        ag2.update_prior_signal(signal_ag2)\n",
    "\n",
    "        new_ag1 = ag1.prior_signal\n",
    "#         uu = np.random.uniform(size=3)\n",
    "#         new_ag1 = uu/np.sum(uu)\n",
    "        new_ag2 = ag2.prior_signal\n",
    "        \n",
    "        uu2 = prev_ag1 + np.random.normal(0,0.1,3) \n",
    "#         uu2 = np.random.uniform(size=3)\n",
    "\n",
    "#         infered_1 = pp.infer_report(prev_ag1, new_ag1)\n",
    "#         infered_2 = pp.infer_report(prev_ag2, new_ag2)\n",
    "\n",
    "        reward_ag1 += quad(uu2/np.sum(uu2), signal_ag2) + quad(new_ag1, signal_ag2)\n",
    "        reward_ag2 += quad(prev_ag2, signal_ag1) + quad(new_ag2, signal_ag1)\n",
    "    \n",
    "    lying_rewards_ag1.append(reward_ag1)\n",
    "    rewards_ag2.append(reward_ag2)"
   ]
  },
  {
   "cell_type": "code",
   "execution_count": 26,
   "metadata": {
    "collapsed": false
   },
   "outputs": [
    {
     "data": {
      "text/plain": [
       "(0, 350)"
      ]
     },
     "execution_count": 26,
     "metadata": {},
     "output_type": "execute_result"
    },
    {
     "data": {
      "image/png": "[encoded data removed]",
      "text/plain": [
       "<matplotlib.figure.Figure at 0x107d5b150>"
      ]
     },
     "metadata": {},
     "output_type": "display_data"
    }
   ],
   "source": [
    "plt.figure(figsize=(8,6))\n",
    "plt.hist([t/1000 for t in truthful_rewards_ag1], label = 'Agent 1 is Truthful')\n",
    "plt.hist([t/1000 for t in lying_rewards_ag1], label = 'Agent 1 is Lying', color = 'purple')\n",
    "plt.legend()\n",
    "\n",
    "plt.ylim(0,350)"
   ]
  },
  {
   "cell_type": "code",
   "execution_count": 27,
   "metadata": {
    "collapsed": true
   },
   "outputs": [],
   "source": [
    "lying_rewards_ag1 = []\n",
    "rewards_ag2 = []\n",
    "for j in range(1000):   \n",
    "    ag1 = pp.agent_pp(np.array([0.5,0.5]), np.array([a/np.sum(a), b/np.sum(b)]))\n",
    "    ag2 = pp.agent_pp(np.array([0.2,0.8]), np.array([[0.75,0.15, 0.1],[0.1,0.2,0.7]]))\n",
    "    \n",
    "    reward_ag1 = 0\n",
    "    reward_ag2 = 0\n",
    "\n",
    "    for i in range(1000):\n",
    "        prev_ag1 = ag1.prior_signal\n",
    "        prev_ag2 = ag2.prior_signal\n",
    "        if np.random.uniform() < 0.5:\n",
    "            true_type = 0\n",
    "        else:\n",
    "            true_type = 1\n",
    "        u = np.random.uniform()\n",
    "        if  u < ag1.sig_dist[true_type][0]:\n",
    "            signal_ag1 = 0\n",
    "        elif u < ag1.sig_dist[true_type][1]:\n",
    "            signal_ag1 = 1\n",
    "        else:\n",
    "            signal_ag1 = 2\n",
    "        v = np.random.uniform()\n",
    "        if v < ag2.sig_dist[true_type][0]:\n",
    "            signal_ag2 = 0\n",
    "        elif v < ag2.sig_dist[true_type][1]:\n",
    "            signal_ag2 = 1\n",
    "        else:\n",
    "            signal_ag2 = 2\n",
    "\n",
    "        ag1.update_prior_signal(signal_ag1)\n",
    "        ag2.update_prior_signal(signal_ag2)\n",
    "\n",
    "        new_ag1 = ag1.prior_signal + np.random.normal(0,0.1,3) \n",
    "#         uu = np.random.uniform(size=3)\n",
    "#         new_ag1 = uu/np.sum(uu)\n",
    "        new_ag2 = ag2.prior_signal\n",
    "        \n",
    "        uu2 = prev_ag1 + np.random.normal(0,0.1,3) \n",
    "#         uu2 = np.random.uniform(size=3)\n",
    "\n",
    "#         infered_1 = pp.infer_report(prev_ag1, new_ag1)\n",
    "#         infered_2 = pp.infer_report(prev_ag2, new_ag2)\n",
    "\n",
    "        reward_ag1 += quad(uu2/np.sum(uu2), signal_ag2) + quad(new_ag1/new_ag1.sum(), signal_ag2)\n",
    "        reward_ag2 += quad(prev_ag2, signal_ag1) + quad(new_ag2, signal_ag1)\n",
    "    \n",
    "    lying_rewards_ag1.append(reward_ag1)\n",
    "    rewards_ag2.append(reward_ag2)"
   ]
  },
  {
   "cell_type": "code",
   "execution_count": 47,
   "metadata": {
    "collapsed": false
   },
   "outputs": [
    {
     "data": {
      "text/plain": [
       "(0, 350)"
      ]
     },
     "execution_count": 47,
     "metadata": {},
     "output_type": "execute_result"
    },
    {
     "data": {
      "image/png": "[encoded data removed]",
      "text/plain": [
       "<matplotlib.figure.Figure at 0x1073a0450>"
      ]
     },
     "metadata": {},
     "output_type": "display_data"
    }
   ],
   "source": [
    "plt.figure(figsize=(8,6))\n",
    "plt.hist([t/1000 for t in truthful_rewards_ag1], label = 'Agent 1 is Truthful')\n",
    "plt.hist([t/1000 for t in lying_rewards_ag1], label = 'Agent 1 is Lying', color = 'purple')\n",
    "plt.legend()\n",
    "plt.xlabel('Average Payoff')\n",
    "plt.ylabel('Frequency')\n",
    "plt.ylim(0,350)"
   ]
  },
  {
   "cell_type": "code",
   "execution_count": 29,
   "metadata": {
    "collapsed": true
   },
   "outputs": [],
   "source": [
    "lying_rewards_ag1 = []\n",
    "rewards_ag2 = []\n",
    "for j in range(1000):   \n",
    "    ag1 = pp.agent_pp(np.array([0.5,0.5]), np.array([a/np.sum(a), b/np.sum(b)]))\n",
    "    ag2 = pp.agent_pp(np.array([0.2,0.8]), np.array([[0.75,0.15, 0.1],[0.1,0.2,0.7]]))\n",
    "    \n",
    "    reward_ag1 = 0\n",
    "    reward_ag2 = 0\n",
    "\n",
    "    for i in range(1000):\n",
    "        prev_ag1 = ag1.prior_signal\n",
    "        prev_ag2 = ag2.prior_signal\n",
    "        if np.random.uniform() < 0.5:\n",
    "            true_type = 0\n",
    "        else:\n",
    "            true_type = 1\n",
    "        u = np.random.uniform()\n",
    "        if  u < ag1.sig_dist[true_type][0]:\n",
    "            signal_ag1 = 0\n",
    "        elif u < ag1.sig_dist[true_type][1]:\n",
    "            signal_ag1 = 1\n",
    "        else:\n",
    "            signal_ag1 = 2\n",
    "        v = np.random.uniform()\n",
    "        if v < ag2.sig_dist[true_type][0]:\n",
    "            signal_ag2 = 0\n",
    "        elif v < ag2.sig_dist[true_type][1]:\n",
    "            signal_ag2 = 1\n",
    "        else:\n",
    "            signal_ag2 = 2\n",
    "\n",
    "        ag1.update_prior_signal(signal_ag1)\n",
    "        ag2.update_prior_signal(signal_ag2)\n",
    "\n",
    "        new_ag1 = ag1.prior_signal\n",
    "        new_ag1[np.argmin(new_ag1)] += 0.3 \n",
    "#         uu = np.random.uniform(size=3)\n",
    "#         new_ag1 = uu/np.sum(uu)\n",
    "        new_ag2 = ag2.prior_signal\n",
    "        \n",
    "#         uu2 = prev_ag1 + np.random.normal(0,0.1,3) \n",
    "#         uu2 = np.random.uniform(size=3)\n",
    "\n",
    "#         infered_1 = pp.infer_report(prev_ag1, new_ag1)\n",
    "#         infered_2 = pp.infer_report(prev_ag2, new_ag2)\n",
    "\n",
    "        reward_ag1 += quad(prev_ag1, signal_ag2) + quad(new_ag1/new_ag1.sum(), signal_ag2)\n",
    "        reward_ag2 += quad(prev_ag2, signal_ag1) + quad(new_ag2, signal_ag1)\n",
    "    \n",
    "    lying_rewards_ag1.append(reward_ag1)\n",
    "    rewards_ag2.append(reward_ag2)"
   ]
  },
  {
   "cell_type": "code",
   "execution_count": 30,
   "metadata": {
    "collapsed": false
   },
   "outputs": [
    {
     "data": {
      "text/plain": [
       "(0, 350)"
      ]
     },
     "execution_count": 30,
     "metadata": {},
     "output_type": "execute_result"
    },
    {
     "data": {
      "image/png": "[encoded data removed]",
      "text/plain": [
       "<matplotlib.figure.Figure at 0x107adc190>"
      ]
     },
     "metadata": {},
     "output_type": "display_data"
    }
   ],
   "source": [
    "plt.figure(figsize=(8,6))\n",
    "plt.hist([t/1000 for t in truthful_rewards_ag1], label = 'Agent 1 is Truthful')\n",
    "plt.hist([t/1000 for t in lying_rewards_ag1], label = 'Agent 1 is Lying on both his reported beliefs', color = 'purple')\n",
    "plt.legend()\n",
    "plt.ylim(0,350)"
   ]
  },
  {
   "cell_type": "code",
   "execution_count": null,
   "metadata": {
    "collapsed": true
   },
   "outputs": [],
   "source": []
  }
 ],
 "metadata": {
  "kernelspec": {
   "display_name": "Python 2",
   "language": "python",
   "name": "python2"
  },
  "language_info": {
   "codemirror_mode": {
    "name": "ipython",
    "version": 2
   },
   "file_extension": ".py",
   "mimetype": "text/x-python",
   "name": "python",
   "nbconvert_exporter": "python",
   "pygments_lexer": "ipython2",
   "version": "2.7.11"
  }
 },
 "nbformat": 4,
 "nbformat_minor": 0
}
